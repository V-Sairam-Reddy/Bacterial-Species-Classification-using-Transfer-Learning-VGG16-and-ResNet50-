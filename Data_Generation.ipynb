{
  "nbformat": 4,
  "nbformat_minor": 0,
  "metadata": {
    "colab": {
      "name": "Data Generation.ipynb",
      "provenance": [],
      "collapsed_sections": []
    },
    "kernelspec": {
      "name": "python3",
      "display_name": "Python 3"
    },
    "language_info": {
      "name": "python"
    },
    "accelerator": "GPU"
  },
  "cells": [
    {
      "cell_type": "code",
      "metadata": {
        "id": "HNcD08V0pk4J"
      },
      "source": [
        "import cv2\n",
        "import os, os.path\n",
        "import tensorflow as tf\n",
        "from keras.preprocessing.image import ImageDataGenerator"
      ],
      "execution_count": null,
      "outputs": []
    },
    {
      "cell_type": "code",
      "metadata": {
        "id": "AjRTtLHepway",
        "colab": {
          "base_uri": "https://localhost:8080/"
        },
        "outputId": "d349bf9f-8e8c-499f-998a-19628d8d6210"
      },
      "source": [
        "from google.colab import drive\n",
        "drive.mount('/content/drive')"
      ],
      "execution_count": null,
      "outputs": [
        {
          "output_type": "stream",
          "name": "stdout",
          "text": [
            "Mounted at /content/drive\n"
          ]
        }
      ]
    },
    {
      "cell_type": "code",
      "metadata": {
        "colab": {
          "base_uri": "https://localhost:8080/"
        },
        "id": "wdi7Te-OePeB",
        "outputId": "fa2d31b3-009c-4d1e-fbc0-b7069bd7c9ef"
      },
      "source": [
        "tf.debugging.set_log_device_placement(True)\n",
        "\n",
        "with tf.device('/GPU:0'):\n",
        "  load_dir = '/content/drive/MyDrive/IVP/Training'\n",
        "\n",
        "  dest_path = '/content/drive/MyDrive/IVP/Training_augmented'\n",
        "\n",
        "  CATEGORIES = ['C', 'L', 'L1', 'L2', 'L3', 'L4', 'L5', 'L6', 'L7', 'L8', 'L9']\n",
        "\n",
        "  def create_augmented_data():\n",
        "      for category in CATEGORIES:\n",
        "\n",
        "          path = os.path.join(load_dir,category)\n",
        "          path = path + '/'\n",
        "\n",
        "          saving_path = os.path.join(dest_path,category)\n",
        "\n",
        "          datagen = ImageDataGenerator( \n",
        "              rotation_range=120, \n",
        "              width_shift_range=0.4,\n",
        "              height_shift_range=0.4, \n",
        "              shear_range=0.1, \n",
        "              zoom_range=0.2,\n",
        "              channel_shift_range=0.1, \n",
        "              fill_mode='reflect', \n",
        "              horizontal_flip=True, \n",
        "              vertical_flip=True)\n",
        "\n",
        "          i = 0\n",
        "          for batch in datagen.flow_from_directory(directory=path, \n",
        "                                                  batch_size=32,  \n",
        "                                                  target_size=(256, 256),\n",
        "                                                  color_mode=\"rgb\",\n",
        "                                                  save_to_dir=saving_path, \n",
        "                                                  save_prefix='aug', \n",
        "                                                  save_format='jpg'):\n",
        "              i += 1\n",
        "              if i > 1000:\n",
        "                  break \n",
        "\n",
        "  create_augmented_data()"
      ],
      "execution_count": null,
      "outputs": [
        {
          "output_type": "stream",
          "name": "stdout",
          "text": [
            "Found 15 images belonging to 1 classes.\n"
          ]
        }
      ]
    },
    {
      "cell_type": "code",
      "metadata": {
        "id": "6ZUzGjnnAcNH"
      },
      "source": [
        ""
      ],
      "execution_count": null,
      "outputs": []
    }
  ]
}