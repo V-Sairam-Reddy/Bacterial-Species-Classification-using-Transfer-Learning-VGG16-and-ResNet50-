{
  "nbformat": 4,
  "nbformat_minor": 0,
  "metadata": {
    "colab": {
      "name": "PretrainedResNet50.ipynb",
      "provenance": [],
      "collapsed_sections": []
    },
    "kernelspec": {
      "name": "python3",
      "display_name": "Python 3"
    },
    "language_info": {
      "name": "python"
    },
    "accelerator": "GPU"
  },
  "cells": [
    {
      "cell_type": "markdown",
      "metadata": {
        "id": "OqTvdafIHsuZ"
      },
      "source": [
        "# Importing Librabies\n",
        "\n",
        "---\n",
        "\n"
      ]
    },
    {
      "cell_type": "code",
      "metadata": {
        "id": "rA58wRWCPhGu"
      },
      "source": [
        "#importing Print function\n",
        "from __future__ import print_function\n",
        "\n",
        "#Importing Keras\n",
        "import tensorflow.keras\n",
        "\n",
        "#Importing Layers from Keras\n",
        "from tensorflow.keras.layers import Dense, Conv2D\n",
        "from tensorflow.keras.layers import BatchNormalization, Activation, Dropout\n",
        "from tensorflow.keras.layers import AveragePooling2D, Input, Flatten, GlobalAveragePooling2D\n",
        "\n",
        "#Importing Adam Optimizer\n",
        "from tensorflow.keras.optimizers import Adam\n",
        "\n",
        "#Importing ImageDataGenerator\n",
        "from tensorflow.keras.preprocessing.image import ImageDataGenerator\n",
        "\n",
        "#Importing Model Check Point for saving best MOdel\n",
        "from keras.callbacks import ModelCheckpoint\n",
        "\n",
        "#Importing Model\n",
        "from tensorflow.keras.models import Model"
      ],
      "execution_count": null,
      "outputs": []
    },
    {
      "cell_type": "markdown",
      "metadata": {
        "id": "9dmYkL2-Hq-A"
      },
      "source": [
        "**Defining Parameters**"
      ]
    },
    {
      "cell_type": "code",
      "metadata": {
        "id": "60Eioe4nQ-jk"
      },
      "source": [
        "Batch_Size = 32\n",
        "Num_of_Iterations = 50\n",
        "Num_of_Classes = 5\n",
        "Num_of_Channels = 3\n",
        "image_dimn = [32,32]\n",
        "input_image_shape = [32,32,3]"
      ],
      "execution_count": null,
      "outputs": []
    },
    {
      "cell_type": "markdown",
      "metadata": {
        "id": "jXXOk8T_IMIY"
      },
      "source": [
        "# Loading Data\n",
        "\n",
        "---\n",
        "\n"
      ]
    },
    {
      "cell_type": "code",
      "metadata": {
        "colab": {
          "base_uri": "https://localhost:8080/"
        },
        "id": "XV5r4noqa5WB",
        "outputId": "b0194046-f7d8-40bf-a1f4-5fc0717badf2"
      },
      "source": [
        "!7z x Training.zip"
      ],
      "execution_count": null,
      "outputs": [
        {
          "output_type": "stream",
          "name": "stdout",
          "text": [
            "\n",
            "7-Zip [64] 16.02 : Copyright (c) 1999-2016 Igor Pavlov : 2016-05-21\n",
            "p7zip Version 16.02 (locale=en_US.UTF-8,Utf16=on,HugeFiles=on,64 bits,2 CPUs Intel(R) Xeon(R) CPU @ 2.30GHz (306F0),ASM,AES-NI)\n",
            "\n",
            "Scanning the drive for archives:\n",
            "  0M Scan\b\b\b\b\b\b\b\b\b         \b\b\b\b\b\b\b\b\b1 file, 141486870 bytes (135 MiB)\n",
            "\n",
            "Extracting archive: Training.zip\n",
            " 81% 4096 Open\b\b\b\b\b\b\b\b\b\b\b\b\b\b              \b\b\b\b\b\b\b\b\b\b\b\b\b\b--\n",
            "Path = Training.zip\n",
            "Type = zip\n",
            "Physical Size = 141486870\n",
            "\n",
            "  0%\b\b\b\b    \b\b\b\b\n",
            "Would you like to replace the existing file:\n",
            "  Path:     ./Trainingless/C/982.jpg\n",
            "  Size:     22472 bytes (22 KiB)\n",
            "  Modified: 2021-11-15 02:31:22\n",
            "with the file from archive:\n",
            "  Path:     Trainingless/C/982.jpg\n",
            "  Size:     22472 bytes (22 KiB)\n",
            "  Modified: 2021-11-15 02:31:22\n",
            "? (Y)es / (N)o / (A)lways / (S)kip all / A(u)to rename all / (Q)uit? A\n",
            "\n",
            "  0% - Trainingless/C/982.jpg\b\b\b\b\b\b\b\b\b\b\b\b\b\b\b\b\b\b\b\b\b\b\b\b\b\b\b\b\b                             \b\b\b\b\b\b\b\b\b\b\b\b\b\b\b\b\b\b\b\b\b\b\b\b\b\b\b\b\b  7% 371 - Trainingless/E/940.jpg\b\b\b\b\b\b\b\b\b\b\b\b\b\b\b\b\b\b\b\b\b\b\b\b\b\b\b\b\b\b\b\b\b                                 \b\b\b\b\b\b\b\b\b\b\b\b\b\b\b\b\b\b\b\b\b\b\b\b\b\b\b\b\b\b\b\b\b 13% 745 - Trainingless/C/807.jpg\b\b\b\b\b\b\b\b\b\b\b\b\b\b\b\b\b\b\b\b\b\b\b\b\b\b\b\b\b\b\b\b\b                                 \b\b\b\b\b\b\b\b\b\b\b\b\b\b\b\b\b\b\b\b\b\b\b\b\b\b\b\b\b\b\b\b\b 21% 1111 - Trainingless/B/756.jpg\b\b\b\b\b\b\b\b\b\b\b\b\b\b\b\b\b\b\b\b\b\b\b\b\b\b\b\b\b\b\b\b\b\b                                  \b\b\b\b\b\b\b\b\b\b\b\b\b\b\b\b\b\b\b\b\b\b\b\b\b\b\b\b\b\b\b\b\b\b 28% 1482 - Trainingless/A/aug_0_8717791.jpg\b\b\b\b\b\b\b\b\b\b\b\b\b\b\b\b\b\b\b\b\b\b\b\b\b\b\b\b\b\b\b\b\b\b\b\b\b\b\b\b\b\b\b\b                                            \b\b\b\b\b\b\b\b\b\b\b\b\b\b\b\b\b\b\b\b\b\b\b\b\b\b\b\b\b\b\b\b\b\b\b\b\b\b\b\b\b\b\b\b 36% 1835 - Trainingless/E/644.jpg\b\b\b\b\b\b\b\b\b\b\b\b\b\b\b\b\b\b\b\b\b\b\b\b\b\b\b\b\b\b\b\b\b\b                                  \b\b\b\b\b\b\b\b\b\b\b\b\b\b\b\b\b\b\b\b\b\b\b\b\b\b\b\b\b\b\b\b\b\b 43% 2210 - Trainingless/A/aug_0_9556431.jpg\b\b\b\b\b\b\b\b\b\b\b\b\b\b\b\b\b\b\b\b\b\b\b\b\b\b\b\b\b\b\b\b\b\b\b\b\b\b\b\b\b\b\b\b                                            \b\b\b\b\b\b\b\b\b\b\b\b\b\b\b\b\b\b\b\b\b\b\b\b\b\b\b\b\b\b\b\b\b\b\b\b\b\b\b\b\b\b\b\b 50% 2586\b\b\b\b\b\b\b\b\b         \b\b\b\b\b\b\b\b\b 58% 2965 - Trainingless/C/353.jpg\b\b\b\b\b\b\b\b\b\b\b\b\b\b\b\b\b\b\b\b\b\b\b\b\b\b\b\b\b\b\b\b\b\b                                  \b\b\b\b\b\b\b\b\b\b\b\b\b\b\b\b\b\b\b\b\b\b\b\b\b\b\b\b\b\b\b\b\b\b 66% 3354 - Trainingless/D/372.jpg\b\b\b\b\b\b\b\b\b\b\b\b\b\b\b\b\b\b\b\b\b\b\b\b\b\b\b\b\b\b\b\b\b\b                                  \b\b\b\b\b\b\b\b\b\b\b\b\b\b\b\b\b\b\b\b\b\b\b\b\b\b\b\b\b\b\b\b\b\b 73% 3724 - Trainingless/A/aug_0_8507150.jpg\b\b\b\b\b\b\b\b\b\b\b\b\b\b\b\b\b\b\b\b\b\b\b\b\b\b\b\b\b\b\b\b\b\b\b\b\b\b\b\b\b\b\b\b                                            \b\b\b\b\b\b\b\b\b\b\b\b\b\b\b\b\b\b\b\b\b\b\b\b\b\b\b\b\b\b\b\b\b\b\b\b\b\b\b\b\b\b\b\b 81% 4116 - Trainingless/B/180.jpg\b\b\b\b\b\b\b\b\b\b\b\b\b\b\b\b\b\b\b\b\b\b\b\b\b\b\b\b\b\b\b\b\b\b                                  \b\b\b\b\b\b\b\b\b\b\b\b\b\b\b\b\b\b\b\b\b\b\b\b\b\b\b\b\b\b\b\b\b\b 87% 4436 - Trainingless/C/70.jpg\b\b\b\b\b\b\b\b\b\b\b\b\b\b\b\b\b\b\b\b\b\b\b\b\b\b\b\b\b\b\b\b\b                                 \b\b\b\b\b\b\b\b\b\b\b\b\b\b\b\b\b\b\b\b\b\b\b\b\b\b\b\b\b\b\b\b\b 95% 4783 - Trainingless/D/93.jpg\b\b\b\b\b\b\b\b\b\b\b\b\b\b\b\b\b\b\b\b\b\b\b\b\b\b\b\b\b\b\b\b\b                                 \b\b\b\b\b\b\b\b\b\b\b\b\b\b\b\b\b\b\b\b\b\b\b\b\b\b\b\b\b\b\b\b\bEverything is Ok\n",
            "\n",
            "Files: 5000\n",
            "Size:       140479878\n",
            "Compressed: 141486870\n"
          ]
        }
      ]
    },
    {
      "cell_type": "code",
      "metadata": {
        "colab": {
          "base_uri": "https://localhost:8080/"
        },
        "id": "Z1Wve3K8MVu0",
        "outputId": "0fc498ac-1345-4e76-b364-15294da00ddf"
      },
      "source": [
        "!7z x Testing.zip"
      ],
      "execution_count": null,
      "outputs": [
        {
          "output_type": "stream",
          "name": "stdout",
          "text": [
            "\n",
            "7-Zip [64] 16.02 : Copyright (c) 1999-2016 Igor Pavlov : 2016-05-21\n",
            "p7zip Version 16.02 (locale=en_US.UTF-8,Utf16=on,HugeFiles=on,64 bits,2 CPUs Intel(R) Xeon(R) CPU @ 2.30GHz (306F0),ASM,AES-NI)\n",
            "\n",
            "Scanning the drive for archives:\n",
            "  0M Scan\b\b\b\b\b\b\b\b\b         \b\b\b\b\b\b\b\b\b1 file, 39331846 bytes (38 MiB)\n",
            "\n",
            "Extracting archive: Testing.zip\n",
            "--\n",
            "Path = Testing.zip\n",
            "Type = zip\n",
            "Physical Size = 39331846\n",
            "\n",
            "  0%\b\b\b\b    \b\b\b\b\n",
            "Would you like to replace the existing file:\n",
            "  Path:     ./Testless/D/250.jpg\n",
            "  Size:     22859 bytes (23 KiB)\n",
            "  Modified: 2021-11-15 03:33:06\n",
            "with the file from archive:\n",
            "  Path:     Testless/D/250.jpg\n",
            "  Size:     22859 bytes (23 KiB)\n",
            "  Modified: 2021-11-15 03:33:06\n",
            "? (Y)es / (N)o / (A)lways / (S)kip all / A(u)to rename all / (Q)uit? A\n",
            "\n",
            "  0% - Testless/D/250.jpg\b\b\b\b\b\b\b\b\b\b\b\b\b\b\b\b\b\b\b\b\b\b\b\b\b                         \b\b\b\b\b\b\b\b\b\b\b\b\b\b\b\b\b\b\b\b\b\b\b\b\b 51% 600 - Testless/B/131.jpg\b\b\b\b\b\b\b\b\b\b\b\b\b\b\b\b\b\b\b\b\b\b\b\b\b\b\b\b\b                             \b\b\b\b\b\b\b\b\b\b\b\b\b\b\b\b\b\b\b\b\b\b\b\b\b\b\b\b\b 95% 1170 - Testless/C/116.jpg\b\b\b\b\b\b\b\b\b\b\b\b\b\b\b\b\b\b\b\b\b\b\b\b\b\b\b\b\b\b                              \b\b\b\b\b\b\b\b\b\b\b\b\b\b\b\b\b\b\b\b\b\b\b\b\b\b\b\b\b\bEverything is Ok\n",
            "\n",
            "Files: 1250\n",
            "Size:       39116534\n",
            "Compressed: 39331846\n"
          ]
        }
      ]
    },
    {
      "cell_type": "markdown",
      "metadata": {
        "id": "SvOT7uzDIvdo"
      },
      "source": [
        "**Data Flow from Directories**"
      ]
    },
    {
      "cell_type": "code",
      "metadata": {
        "colab": {
          "base_uri": "https://localhost:8080/"
        },
        "id": "0PRwZplEPsuk",
        "outputId": "9db87f0d-2eb3-467d-f708-3b38c6b427ef"
      },
      "source": [
        "train_datagen = ImageDataGenerator(\n",
        "    rescale = 1/255, \n",
        ")\n",
        "\n",
        "train_generator = train_datagen.flow_from_directory(\n",
        "    directory=\"/content/Trainingless\",\n",
        "    target_size=image_dimn,\n",
        "    color_mode=\"rgb\",\n",
        "    batch_size=Batch_Size,\n",
        "    class_mode=\"categorical\",\n",
        "    shuffle=True,\n",
        "    seed=42\n",
        ")"
      ],
      "execution_count": null,
      "outputs": [
        {
          "output_type": "stream",
          "name": "stdout",
          "text": [
            "Found 5000 images belonging to 5 classes.\n"
          ]
        }
      ]
    },
    {
      "cell_type": "code",
      "metadata": {
        "colab": {
          "base_uri": "https://localhost:8080/"
        },
        "id": "MB30Qd3fPy0P",
        "outputId": "95a3948f-c12a-47ee-a32a-7636bfdb4dde"
      },
      "source": [
        "test_datagen = ImageDataGenerator(\n",
        "    rescale = 1/255,\n",
        ")\n",
        "\n",
        "test_generator = test_datagen.flow_from_directory(\n",
        "    directory=\"/content/Testless\",\n",
        "    target_size=image_dimn,\n",
        "    color_mode=\"rgb\",\n",
        "    batch_size=Batch_Size,\n",
        "    class_mode=\"categorical\",\n",
        "    shuffle=True,\n",
        "    seed=42\n",
        ")"
      ],
      "execution_count": null,
      "outputs": [
        {
          "output_type": "stream",
          "name": "stdout",
          "text": [
            "Found 1250 images belonging to 5 classes.\n"
          ]
        }
      ]
    },
    {
      "cell_type": "markdown",
      "metadata": {
        "id": "O9jAFcF4I_5T"
      },
      "source": [
        "# Building Model Using Transfer Learning (PreTrained ResNet50)\n",
        "\n",
        "---\n",
        "\n"
      ]
    },
    {
      "cell_type": "markdown",
      "metadata": {
        "id": "li06zNdFKFE6"
      },
      "source": [
        "**Building our Model using PreTrained ResNet50 as Backbone**"
      ]
    },
    {
      "cell_type": "code",
      "metadata": {
        "id": "-yXpM0tBNe0k",
        "colab": {
          "base_uri": "https://localhost:8080/"
        },
        "outputId": "8861d298-9160-46df-f070-3db7b9328507"
      },
      "source": [
        "#Import PreTrained ResNet50 Model from Keras applications\n",
        "from tensorflow.keras.applications.resnet50 import ResNet50\n",
        "from tensorflow.keras.preprocessing import image\n",
        "from tensorflow.keras.applications.resnet50 import preprocess_input, decode_predictions\n",
        "import numpy as np\n",
        "\n",
        "#This pretrained model is used as backbone for our Model\n",
        "base_model = ResNet50(\n",
        "    include_top=False,\n",
        "    weights=\"imagenet\",\n",
        "    input_shape=input_image_shape\n",
        ")\n",
        "\n",
        "#From the output of pretrained Model, add Fully connected Dense Layers for Classification\n",
        "x = base_model.output\n",
        "x = GlobalAveragePooling2D()(x)\n",
        "x = Dense(1024, activation='relu')(x)\n",
        "x = Dense(256, activation='relu')(x)\n",
        "x = Dense(64, activation='relu')(x)\n",
        "predictions = Dense(5, activation='softmax')(x)\n",
        "\n",
        "#Defining Inputs and Outputs of our Model\n",
        "model = Model(inputs=base_model.input, outputs=predictions)\n",
        "\n",
        "#Because we don't want to again train the pretrained Model, we freeze the layers\n",
        "for layer in base_model.layers:\n",
        "    layer.trainable = False"
      ],
      "execution_count": null,
      "outputs": [
        {
          "output_type": "stream",
          "name": "stdout",
          "text": [
            "Downloading data from https://storage.googleapis.com/tensorflow/keras-applications/resnet/resnet50_weights_tf_dim_ordering_tf_kernels_notop.h5\n",
            "94773248/94765736 [==============================] - 1s 0us/step\n",
            "94781440/94765736 [==============================] - 1s 0us/step\n"
          ]
        }
      ]
    },
    {
      "cell_type": "markdown",
      "metadata": {
        "id": "nkNFFGDDKXuq"
      },
      "source": [
        "**Compiling the Model**"
      ]
    },
    {
      "cell_type": "code",
      "metadata": {
        "id": "mmn421LMQM1v"
      },
      "source": [
        "#Compiling the model using adam as optimizer, categorical_crossentropy as loss and accuracy as Metric\n",
        "model.compile(loss='categorical_crossentropy',optimizer='adam',metrics=['accuracy'])"
      ],
      "execution_count": null,
      "outputs": []
    },
    {
      "cell_type": "markdown",
      "metadata": {
        "id": "Pg2czRNHLb_Y"
      },
      "source": [
        "**Training the Model**"
      ]
    },
    {
      "cell_type": "code",
      "metadata": {
        "colab": {
          "base_uri": "https://localhost:8080/"
        },
        "id": "6SxTahDx3afh",
        "outputId": "d474f9d9-4bf9-4fc4-941f-13179a8ed9b9"
      },
      "source": [
        "#Path for storing the Model Check point\n",
        "checkpoint_filepath = '/content/sample_data/'\n",
        "\n",
        "#callbacks to save the model that has best validation accuracy\n",
        "model_checkpoint_callback = ModelCheckpoint(\n",
        "    filepath=checkpoint_filepath,\n",
        "    save_weights_only=True,\n",
        "    monitor='val_accuracy',\n",
        "    mode='max',\n",
        "    save_best_only=True)\n",
        "\n",
        "#Start training the model\n",
        "hist = model.fit(train_generator, validation_data=(test_generator), batch_size = Batch_Size, epochs = 100, shuffle=True, callbacks=[model_checkpoint_callback])\n",
        "\n",
        "#Load weights to the model from the best saved file\n",
        "model.load_weights(checkpoint_filepath)"
      ],
      "execution_count": null,
      "outputs": [
        {
          "output_type": "stream",
          "name": "stdout",
          "text": [
            "Epoch 1/100\n",
            "157/157 [==============================] - 49s 107ms/step - loss: 1.2832 - accuracy: 0.4508 - val_loss: 1.0334 - val_accuracy: 0.5264\n",
            "Epoch 2/100\n",
            "157/157 [==============================] - 15s 94ms/step - loss: 0.8343 - accuracy: 0.6400 - val_loss: 0.6986 - val_accuracy: 0.7608\n",
            "Epoch 3/100\n",
            "157/157 [==============================] - 12s 76ms/step - loss: 0.7768 - accuracy: 0.6552 - val_loss: 0.7786 - val_accuracy: 0.6408\n",
            "Epoch 4/100\n",
            "157/157 [==============================] - 12s 78ms/step - loss: 0.7255 - accuracy: 0.6738 - val_loss: 0.7274 - val_accuracy: 0.6096\n",
            "Epoch 5/100\n",
            "157/157 [==============================] - 12s 79ms/step - loss: 0.6885 - accuracy: 0.6928 - val_loss: 0.8578 - val_accuracy: 0.6344\n",
            "Epoch 6/100\n",
            "157/157 [==============================] - 12s 79ms/step - loss: 0.6572 - accuracy: 0.7084 - val_loss: 0.6379 - val_accuracy: 0.7576\n",
            "Epoch 7/100\n",
            "157/157 [==============================] - 16s 100ms/step - loss: 0.6353 - accuracy: 0.7184 - val_loss: 0.6484 - val_accuracy: 0.7632\n",
            "Epoch 8/100\n",
            "157/157 [==============================] - 13s 80ms/step - loss: 0.6077 - accuracy: 0.7354 - val_loss: 0.6626 - val_accuracy: 0.6528\n",
            "Epoch 9/100\n",
            "157/157 [==============================] - 13s 81ms/step - loss: 0.6384 - accuracy: 0.7270 - val_loss: 0.7475 - val_accuracy: 0.6496\n",
            "Epoch 10/100\n",
            "157/157 [==============================] - 13s 80ms/step - loss: 0.6372 - accuracy: 0.7236 - val_loss: 0.6023 - val_accuracy: 0.7408\n",
            "Epoch 11/100\n",
            "157/157 [==============================] - 16s 102ms/step - loss: 0.5750 - accuracy: 0.7488 - val_loss: 0.5598 - val_accuracy: 0.7848\n",
            "Epoch 12/100\n",
            "157/157 [==============================] - 13s 80ms/step - loss: 0.5827 - accuracy: 0.7496 - val_loss: 0.6014 - val_accuracy: 0.7576\n",
            "Epoch 13/100\n",
            "157/157 [==============================] - 12s 78ms/step - loss: 0.5775 - accuracy: 0.7540 - val_loss: 0.6417 - val_accuracy: 0.7336\n",
            "Epoch 14/100\n",
            "157/157 [==============================] - 12s 78ms/step - loss: 0.5470 - accuracy: 0.7728 - val_loss: 0.5601 - val_accuracy: 0.7760\n",
            "Epoch 15/100\n",
            "157/157 [==============================] - 12s 79ms/step - loss: 0.5416 - accuracy: 0.7738 - val_loss: 0.5358 - val_accuracy: 0.7672\n",
            "Epoch 16/100\n",
            "157/157 [==============================] - 12s 79ms/step - loss: 0.5474 - accuracy: 0.7722 - val_loss: 0.5508 - val_accuracy: 0.7736\n",
            "Epoch 17/100\n",
            "157/157 [==============================] - 12s 78ms/step - loss: 0.5201 - accuracy: 0.7798 - val_loss: 0.5473 - val_accuracy: 0.7760\n",
            "Epoch 18/100\n",
            "157/157 [==============================] - 12s 79ms/step - loss: 0.5199 - accuracy: 0.7840 - val_loss: 0.8130 - val_accuracy: 0.6952\n",
            "Epoch 19/100\n",
            "157/157 [==============================] - 16s 103ms/step - loss: 0.5268 - accuracy: 0.7762 - val_loss: 0.5398 - val_accuracy: 0.7880\n",
            "Epoch 20/100\n",
            "157/157 [==============================] - 13s 80ms/step - loss: 0.5078 - accuracy: 0.7884 - val_loss: 0.5303 - val_accuracy: 0.7808\n",
            "Epoch 21/100\n",
            "157/157 [==============================] - 13s 81ms/step - loss: 0.4993 - accuracy: 0.7920 - val_loss: 0.6198 - val_accuracy: 0.7400\n",
            "Epoch 22/100\n",
            "157/157 [==============================] - 13s 81ms/step - loss: 0.5075 - accuracy: 0.7886 - val_loss: 0.5514 - val_accuracy: 0.7736\n",
            "Epoch 23/100\n",
            "157/157 [==============================] - 13s 81ms/step - loss: 0.4868 - accuracy: 0.7946 - val_loss: 0.5455 - val_accuracy: 0.7792\n",
            "Epoch 24/100\n",
            "157/157 [==============================] - 13s 80ms/step - loss: 0.5204 - accuracy: 0.7786 - val_loss: 0.5281 - val_accuracy: 0.7832\n",
            "Epoch 25/100\n",
            "157/157 [==============================] - 13s 80ms/step - loss: 0.4911 - accuracy: 0.8010 - val_loss: 0.5241 - val_accuracy: 0.7792\n",
            "Epoch 26/100\n",
            "157/157 [==============================] - 13s 81ms/step - loss: 0.4754 - accuracy: 0.8008 - val_loss: 0.5506 - val_accuracy: 0.7840\n",
            "Epoch 27/100\n",
            "157/157 [==============================] - 16s 99ms/step - loss: 0.4679 - accuracy: 0.8028 - val_loss: 0.5396 - val_accuracy: 0.7896\n",
            "Epoch 28/100\n",
            "157/157 [==============================] - 13s 81ms/step - loss: 0.4730 - accuracy: 0.8060 - val_loss: 0.5490 - val_accuracy: 0.7784\n",
            "Epoch 29/100\n",
            "157/157 [==============================] - 13s 80ms/step - loss: 0.4667 - accuracy: 0.8064 - val_loss: 0.5439 - val_accuracy: 0.7776\n",
            "Epoch 30/100\n",
            "157/157 [==============================] - 13s 81ms/step - loss: 0.4583 - accuracy: 0.8072 - val_loss: 0.5201 - val_accuracy: 0.7872\n",
            "Epoch 31/100\n",
            "157/157 [==============================] - 13s 80ms/step - loss: 0.4721 - accuracy: 0.8038 - val_loss: 0.6018 - val_accuracy: 0.7624\n",
            "Epoch 32/100\n",
            "157/157 [==============================] - 13s 81ms/step - loss: 0.4817 - accuracy: 0.7992 - val_loss: 0.5015 - val_accuracy: 0.7832\n",
            "Epoch 33/100\n",
            "157/157 [==============================] - 12s 79ms/step - loss: 0.4652 - accuracy: 0.8044 - val_loss: 0.5515 - val_accuracy: 0.7752\n",
            "Epoch 34/100\n",
            "157/157 [==============================] - 13s 80ms/step - loss: 0.4618 - accuracy: 0.8060 - val_loss: 0.5442 - val_accuracy: 0.7728\n",
            "Epoch 35/100\n",
            "157/157 [==============================] - 16s 102ms/step - loss: 0.4894 - accuracy: 0.7990 - val_loss: 0.5123 - val_accuracy: 0.7944\n",
            "Epoch 36/100\n",
            "157/157 [==============================] - 13s 81ms/step - loss: 0.4779 - accuracy: 0.8012 - val_loss: 0.5142 - val_accuracy: 0.7832\n",
            "Epoch 37/100\n",
            "157/157 [==============================] - 13s 80ms/step - loss: 0.4532 - accuracy: 0.8092 - val_loss: 0.5261 - val_accuracy: 0.7760\n",
            "Epoch 38/100\n",
            "157/157 [==============================] - 13s 81ms/step - loss: 0.4508 - accuracy: 0.8128 - val_loss: 0.5272 - val_accuracy: 0.7712\n",
            "Epoch 39/100\n",
            "157/157 [==============================] - 13s 82ms/step - loss: 0.4711 - accuracy: 0.8070 - val_loss: 0.6044 - val_accuracy: 0.7344\n",
            "Epoch 40/100\n",
            "157/157 [==============================] - 13s 81ms/step - loss: 0.4529 - accuracy: 0.8108 - val_loss: 0.5954 - val_accuracy: 0.7696\n",
            "Epoch 41/100\n",
            "157/157 [==============================] - 13s 81ms/step - loss: 0.4430 - accuracy: 0.8168 - val_loss: 0.5183 - val_accuracy: 0.7808\n",
            "Epoch 42/100\n",
            "157/157 [==============================] - 13s 83ms/step - loss: 0.4429 - accuracy: 0.8128 - val_loss: 0.5962 - val_accuracy: 0.7728\n",
            "Epoch 43/100\n",
            "157/157 [==============================] - 16s 104ms/step - loss: 0.4476 - accuracy: 0.8126 - val_loss: 0.5281 - val_accuracy: 0.7968\n",
            "Epoch 44/100\n",
            "157/157 [==============================] - 13s 84ms/step - loss: 0.4304 - accuracy: 0.8188 - val_loss: 0.4669 - val_accuracy: 0.8080\n",
            "Epoch 45/100\n",
            "157/157 [==============================] - 13s 81ms/step - loss: 0.4205 - accuracy: 0.8262 - val_loss: 0.6347 - val_accuracy: 0.7512\n",
            "Epoch 46/100\n",
            "157/157 [==============================] - 13s 80ms/step - loss: 0.4218 - accuracy: 0.8288 - val_loss: 0.5361 - val_accuracy: 0.7744\n",
            "Epoch 47/100\n",
            "157/157 [==============================] - 13s 81ms/step - loss: 0.4148 - accuracy: 0.8292 - val_loss: 0.5313 - val_accuracy: 0.7952\n",
            "Epoch 48/100\n",
            "157/157 [==============================] - 12s 80ms/step - loss: 0.4456 - accuracy: 0.8174 - val_loss: 0.5913 - val_accuracy: 0.7848\n",
            "Epoch 49/100\n",
            "157/157 [==============================] - 13s 81ms/step - loss: 0.4494 - accuracy: 0.8142 - val_loss: 0.5401 - val_accuracy: 0.7840\n",
            "Epoch 50/100\n",
            "157/157 [==============================] - 13s 80ms/step - loss: 0.4360 - accuracy: 0.8274 - val_loss: 0.5758 - val_accuracy: 0.7800\n",
            "Epoch 51/100\n",
            "157/157 [==============================] - 12s 79ms/step - loss: 0.4200 - accuracy: 0.8246 - val_loss: 0.6253 - val_accuracy: 0.7456\n",
            "Epoch 52/100\n",
            "157/157 [==============================] - 12s 79ms/step - loss: 0.4059 - accuracy: 0.8320 - val_loss: 0.6207 - val_accuracy: 0.7712\n",
            "Epoch 53/100\n",
            "157/157 [==============================] - 12s 79ms/step - loss: 0.4274 - accuracy: 0.8240 - val_loss: 0.5675 - val_accuracy: 0.7656\n",
            "Epoch 54/100\n",
            "157/157 [==============================] - 13s 80ms/step - loss: 0.4103 - accuracy: 0.8308 - val_loss: 0.6043 - val_accuracy: 0.7768\n",
            "Epoch 55/100\n",
            "157/157 [==============================] - 12s 79ms/step - loss: 0.4676 - accuracy: 0.8036 - val_loss: 0.5222 - val_accuracy: 0.7776\n",
            "Epoch 56/100\n",
            "157/157 [==============================] - 12s 79ms/step - loss: 0.4024 - accuracy: 0.8326 - val_loss: 0.5665 - val_accuracy: 0.7704\n",
            "Epoch 57/100\n",
            "157/157 [==============================] - 12s 78ms/step - loss: 0.4113 - accuracy: 0.8306 - val_loss: 0.5699 - val_accuracy: 0.7672\n",
            "Epoch 58/100\n",
            "157/157 [==============================] - 12s 79ms/step - loss: 0.4186 - accuracy: 0.8272 - val_loss: 0.5375 - val_accuracy: 0.7776\n",
            "Epoch 59/100\n",
            "157/157 [==============================] - 12s 79ms/step - loss: 0.4281 - accuracy: 0.8258 - val_loss: 0.5988 - val_accuracy: 0.7528\n",
            "Epoch 60/100\n",
            "157/157 [==============================] - 12s 78ms/step - loss: 0.4182 - accuracy: 0.8246 - val_loss: 0.5085 - val_accuracy: 0.7888\n",
            "Epoch 61/100\n",
            "157/157 [==============================] - 12s 79ms/step - loss: 0.4068 - accuracy: 0.8290 - val_loss: 0.5143 - val_accuracy: 0.7752\n",
            "Epoch 62/100\n",
            "157/157 [==============================] - 12s 79ms/step - loss: 0.4165 - accuracy: 0.8282 - val_loss: 0.7004 - val_accuracy: 0.7312\n",
            "Epoch 63/100\n",
            "157/157 [==============================] - 13s 80ms/step - loss: 0.4314 - accuracy: 0.8264 - val_loss: 0.6214 - val_accuracy: 0.7496\n",
            "Epoch 64/100\n",
            "157/157 [==============================] - 12s 79ms/step - loss: 0.3999 - accuracy: 0.8406 - val_loss: 0.4722 - val_accuracy: 0.8008\n",
            "Epoch 65/100\n",
            "157/157 [==============================] - 12s 79ms/step - loss: 0.4095 - accuracy: 0.8292 - val_loss: 0.5236 - val_accuracy: 0.7848\n",
            "Epoch 66/100\n",
            "157/157 [==============================] - 12s 80ms/step - loss: 0.4268 - accuracy: 0.8196 - val_loss: 0.5377 - val_accuracy: 0.7768\n",
            "Epoch 67/100\n",
            "157/157 [==============================] - 12s 79ms/step - loss: 0.3919 - accuracy: 0.8368 - val_loss: 0.5891 - val_accuracy: 0.7696\n",
            "Epoch 68/100\n",
            "157/157 [==============================] - 12s 79ms/step - loss: 0.4031 - accuracy: 0.8332 - val_loss: 0.4794 - val_accuracy: 0.8048\n",
            "Epoch 69/100\n",
            "157/157 [==============================] - 12s 79ms/step - loss: 0.4189 - accuracy: 0.8252 - val_loss: 0.5688 - val_accuracy: 0.7728\n",
            "Epoch 70/100\n",
            "157/157 [==============================] - 12s 79ms/step - loss: 0.4125 - accuracy: 0.8270 - val_loss: 0.5067 - val_accuracy: 0.8000\n",
            "Epoch 71/100\n",
            "157/157 [==============================] - 13s 80ms/step - loss: 0.4233 - accuracy: 0.8244 - val_loss: 0.4876 - val_accuracy: 0.7992\n",
            "Epoch 72/100\n",
            "157/157 [==============================] - 13s 80ms/step - loss: 0.4108 - accuracy: 0.8230 - val_loss: 0.5452 - val_accuracy: 0.7824\n",
            "Epoch 73/100\n",
            "157/157 [==============================] - 12s 79ms/step - loss: 0.4025 - accuracy: 0.8320 - val_loss: 0.5969 - val_accuracy: 0.7880\n",
            "Epoch 74/100\n",
            "157/157 [==============================] - 12s 79ms/step - loss: 0.3887 - accuracy: 0.8442 - val_loss: 0.5659 - val_accuracy: 0.7728\n",
            "Epoch 75/100\n",
            "157/157 [==============================] - 12s 78ms/step - loss: 0.3968 - accuracy: 0.8392 - val_loss: 0.5037 - val_accuracy: 0.7976\n",
            "Epoch 76/100\n",
            "157/157 [==============================] - 12s 79ms/step - loss: 0.4175 - accuracy: 0.8302 - val_loss: 0.5069 - val_accuracy: 0.7912\n",
            "Epoch 77/100\n",
            "157/157 [==============================] - 12s 79ms/step - loss: 0.4232 - accuracy: 0.8290 - val_loss: 0.6174 - val_accuracy: 0.7472\n",
            "Epoch 78/100\n",
            "157/157 [==============================] - 13s 80ms/step - loss: 0.3999 - accuracy: 0.8322 - val_loss: 0.5341 - val_accuracy: 0.7968\n",
            "Epoch 79/100\n",
            "157/157 [==============================] - 16s 102ms/step - loss: 0.4085 - accuracy: 0.8328 - val_loss: 0.4787 - val_accuracy: 0.8128\n",
            "Epoch 80/100\n",
            "157/157 [==============================] - 13s 82ms/step - loss: 0.4076 - accuracy: 0.8312 - val_loss: 0.4846 - val_accuracy: 0.7896\n",
            "Epoch 81/100\n",
            "157/157 [==============================] - 13s 82ms/step - loss: 0.4153 - accuracy: 0.8304 - val_loss: 0.5375 - val_accuracy: 0.7904\n",
            "Epoch 82/100\n",
            "157/157 [==============================] - 12s 79ms/step - loss: 0.3686 - accuracy: 0.8434 - val_loss: 0.5149 - val_accuracy: 0.8024\n",
            "Epoch 83/100\n",
            "157/157 [==============================] - 13s 80ms/step - loss: 0.3843 - accuracy: 0.8414 - val_loss: 0.5366 - val_accuracy: 0.7832\n",
            "Epoch 84/100\n",
            "157/157 [==============================] - 12s 79ms/step - loss: 0.3957 - accuracy: 0.8378 - val_loss: 0.5329 - val_accuracy: 0.7920\n",
            "Epoch 85/100\n",
            "157/157 [==============================] - 12s 79ms/step - loss: 0.4076 - accuracy: 0.8342 - val_loss: 0.5089 - val_accuracy: 0.7968\n",
            "Epoch 86/100\n",
            "157/157 [==============================] - 12s 78ms/step - loss: 0.3762 - accuracy: 0.8452 - val_loss: 0.6479 - val_accuracy: 0.7496\n",
            "Epoch 87/100\n",
            "157/157 [==============================] - 12s 80ms/step - loss: 0.3855 - accuracy: 0.8444 - val_loss: 0.4873 - val_accuracy: 0.8000\n",
            "Epoch 88/100\n",
            "157/157 [==============================] - 13s 80ms/step - loss: 0.3871 - accuracy: 0.8404 - val_loss: 0.5376 - val_accuracy: 0.8000\n",
            "Epoch 89/100\n",
            "157/157 [==============================] - 12s 79ms/step - loss: 0.3929 - accuracy: 0.8370 - val_loss: 0.5110 - val_accuracy: 0.7984\n",
            "Epoch 90/100\n",
            "157/157 [==============================] - 12s 79ms/step - loss: 0.3798 - accuracy: 0.8460 - val_loss: 0.5547 - val_accuracy: 0.7816\n",
            "Epoch 91/100\n",
            "157/157 [==============================] - 13s 80ms/step - loss: 0.3967 - accuracy: 0.8400 - val_loss: 0.6082 - val_accuracy: 0.7688\n",
            "Epoch 92/100\n",
            "157/157 [==============================] - 12s 79ms/step - loss: 0.4037 - accuracy: 0.8326 - val_loss: 0.5017 - val_accuracy: 0.7928\n",
            "Epoch 93/100\n",
            "157/157 [==============================] - 13s 81ms/step - loss: 0.3738 - accuracy: 0.8474 - val_loss: 0.4696 - val_accuracy: 0.8160\n",
            "Epoch 94/100\n",
            "157/157 [==============================] - 13s 80ms/step - loss: 0.3712 - accuracy: 0.8478 - val_loss: 0.4855 - val_accuracy: 0.8048\n",
            "Epoch 95/100\n",
            "157/157 [==============================] - 12s 79ms/step - loss: 0.3957 - accuracy: 0.8378 - val_loss: 0.4913 - val_accuracy: 0.8008\n",
            "Epoch 96/100\n",
            "157/157 [==============================] - 12s 79ms/step - loss: 0.3656 - accuracy: 0.8462 - val_loss: 0.5943 - val_accuracy: 0.7832\n",
            "Epoch 97/100\n",
            "157/157 [==============================] - 13s 80ms/step - loss: 0.3649 - accuracy: 0.8490 - val_loss: 0.5197 - val_accuracy: 0.7952\n",
            "Epoch 98/100\n",
            "157/157 [==============================] - 12s 79ms/step - loss: 0.4203 - accuracy: 0.8250 - val_loss: 0.4958 - val_accuracy: 0.7872\n",
            "Epoch 99/100\n",
            "157/157 [==============================] - 13s 80ms/step - loss: 0.3588 - accuracy: 0.8508 - val_loss: 0.5078 - val_accuracy: 0.7856\n",
            "Epoch 100/100\n",
            "157/157 [==============================] - 12s 79ms/step - loss: 0.3616 - accuracy: 0.8522 - val_loss: 0.5731 - val_accuracy: 0.7760\n"
          ]
        },
        {
          "output_type": "execute_result",
          "data": {
            "text/plain": [
              "<tensorflow.python.training.tracking.util.CheckpointLoadStatus at 0x7f2948c39a10>"
            ]
          },
          "metadata": {},
          "execution_count": 16
        }
      ]
    },
    {
      "cell_type": "markdown",
      "metadata": {
        "id": "DK05bmt6L9rX"
      },
      "source": [
        "**Testing the Model**"
      ]
    },
    {
      "cell_type": "code",
      "metadata": {
        "colab": {
          "base_uri": "https://localhost:8080/"
        },
        "id": "sMjm8FL5n5Gt",
        "outputId": "cea5c1e5-dc96-40df-cbd7-666d58f49dd6"
      },
      "source": [
        "#Evaluate our model on the test data\n",
        "scores = model.evaluate(test_generator, verbose=1)\n",
        "print('Test loss:', scores[0])\n",
        "print('Test accuracy:', 100*scores[1])"
      ],
      "execution_count": null,
      "outputs": [
        {
          "output_type": "stream",
          "name": "stdout",
          "text": [
            "40/40 [==============================] - 3s 62ms/step - loss: 0.4696 - accuracy: 0.8160\n",
            "Test loss: 0.4695870578289032\n",
            "Test accuracy: 81.5999984741211\n"
          ]
        }
      ]
    },
    {
      "cell_type": "markdown",
      "metadata": {
        "id": "qSHl_VkOMTZy"
      },
      "source": [
        "# Model Accuracy : 81.59 %\n"
      ]
    }
  ]
}